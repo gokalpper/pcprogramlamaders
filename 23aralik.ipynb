{
 "cells": [
  {
   "cell_type": "code",
   "execution_count": 3,
   "metadata": {},
   "outputs": [],
   "source": [
    "#exception handling \n",
    "#istisna yönetimi \n",
    "\n",
    "i = input (\"Bir sayı gir\")\n",
    "\n",
    "#print( 5 /  i) # TypeError\n",
    "\n",
    "#print( 5 / int(0))   # 0 girilmişse ZeroDivisonError \n",
    "#sayı yer,ne a harfi girmişse ValueError \n",
    "\n",
    "#try : \n",
    "#    print( 5 / i)   \n",
    "#    print( 5 /  i)\n",
    "\n",
    "#except : \n",
    " #   print(\"Bir hata oluştu..\")\n",
    "#except ZeroDivisionError: \n",
    " #   print(\"Lütfen 0 harici bir rakam giriniz.\")\n",
    "\n",
    "\n"
   ]
  },
  {
   "cell_type": "code",
   "execution_count": 4,
   "metadata": {},
   "outputs": [
    {
     "ename": "SyntaxError",
     "evalue": "expected ':' (1132861265.py, line 10)",
     "output_type": "error",
     "traceback": [
      "\u001b[1;36m  Cell \u001b[1;32mIn [4], line 10\u001b[1;36m\u001b[0m\n\u001b[1;33m    except ValueError\u001b[0m\n\u001b[1;37m                     ^\u001b[0m\n\u001b[1;31mSyntaxError\u001b[0m\u001b[1;31m:\u001b[0m expected ':'\n"
     ]
    }
   ],
   "source": [
    "from benimfonksiyonlar import final_hesapla \n",
    "\n",
    "while True: \n",
    "    vize_notu = float ( input ( \"Vize notunuzu giriniz: \")) ;\n",
    "    if(veri == \"e\") :\n",
    "        break ;\n",
    "    try :  \n",
    "        vize_notu = float (veri)\n",
    "        final_hesapla(vize_notu)\n",
    "    except ValueError"
   ]
  },
  {
   "cell_type": "code",
   "execution_count": null,
   "metadata": {},
   "outputs": [],
   "source": [
    "liste = [2, 6 , \"debeme\"]\n",
    "sözlük = { \"yıl\": 2023 , \"bölüm\", }"
   ]
  },
  {
   "cell_type": "code",
   "execution_count": 1,
   "metadata": {},
   "outputs": [
    {
     "ename": "SyntaxError",
     "evalue": "invalid decimal literal (1776041863.py, line 1)",
     "output_type": "error",
     "traceback": [
      "\u001b[1;36m  Cell \u001b[1;32mIn [1], line 1\u001b[1;36m\u001b[0m\n\u001b[1;33m    f(x) = 2x + 5\u001b[0m\n\u001b[1;37m           ^\u001b[0m\n\u001b[1;31mSyntaxError\u001b[0m\u001b[1;31m:\u001b[0m invalid decimal literal\n"
     ]
    }
   ],
   "source": [
    "f(x) = 2x + 5\n",
    "def f(x): \n",
    "    return 2*x + 5 \n",
    "z = f(5) \n",
    "\n",
    "f_fonksiyonu_ile_ayni = f\n",
    "f_fonksiyonu_ile_ayni = (5)\n",
    "\n"
   ]
  },
  {
   "cell_type": "code",
   "execution_count": 2,
   "metadata": {},
   "outputs": [
    {
     "data": {
      "text/plain": [
       "15"
      ]
     },
     "execution_count": 2,
     "metadata": {},
     "output_type": "execute_result"
    }
   ],
   "source": [
    "#lambda fonksiyon yazımı \n",
    "#f(x) = 2x + 5\n",
    "\n",
    "f = lambda x : 2* x + 5\n",
    "\n",
    "f(5)"
   ]
  },
  {
   "cell_type": "code",
   "execution_count": null,
   "metadata": {},
   "outputs": [],
   "source": [
    "#recursive function \n",
    "#yinelemeli fonksiyon \n",
    "\n",
    "def faktoriyel ( x ):\n",
    "    if ( x == 2 ):\n",
    "        return x * faktoriyel (x - 1 )\n",
    "\n",
    "print faktoriyel (( 5 ))"
   ]
  },
  {
   "cell_type": "code",
   "execution_count": null,
   "metadata": {},
   "outputs": [],
   "source": [
    "numpy \n",
    "pandas\n",
    "matplotlib\n",
    "skitlearn \n"
   ]
  }
 ],
 "metadata": {
  "kernelspec": {
   "display_name": "Python 3",
   "language": "python",
   "name": "python3"
  },
  "language_info": {
   "codemirror_mode": {
    "name": "ipython",
    "version": 3
   },
   "file_extension": ".py",
   "mimetype": "text/x-python",
   "name": "python",
   "nbconvert_exporter": "python",
   "pygments_lexer": "ipython3",
   "version": "3.10.7"
  },
  "orig_nbformat": 4,
  "vscode": {
   "interpreter": {
    "hash": "afb734500600fd355917ca529030176ea0ca205570884b88f2f6f7d791fd3fbe"
   }
  }
 },
 "nbformat": 4,
 "nbformat_minor": 2
}
