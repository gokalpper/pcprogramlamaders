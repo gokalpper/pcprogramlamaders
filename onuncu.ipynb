{
 "cells": [
  {
   "cell_type": "code",
   "execution_count": 1,
   "metadata": {},
   "outputs": [
    {
     "name": "stdout",
     "output_type": "stream",
     "text": [
      "Böyle bir modül yok\n"
     ]
    }
   ],
   "source": [
    "try :\n",
    "    import olmayan_modul\n",
    "except:\n",
    "    print(\"Böyle bir modül yok\")"
   ]
  },
  {
   "cell_type": "code",
   "execution_count": 2,
   "metadata": {},
   "outputs": [
    {
     "name": "stdout",
     "output_type": "stream",
     "text": [
      "Değişken adı hatalı.\n"
     ]
    }
   ],
   "source": [
    "try :\n",
    "    print( olmayan_değişken )\n",
    "except NameError :\n",
    "    print(\"Değişken adı hatalı.\") "
   ]
  },
  {
   "cell_type": "code",
   "execution_count": 3,
   "metadata": {},
   "outputs": [
    {
     "data": {
      "text/plain": [
       "15"
      ]
     },
     "execution_count": 3,
     "metadata": {},
     "output_type": "execute_result"
    }
   ],
   "source": [
    "# f(x) = 2x + 5\n",
    "\n",
    "def f(x):\n",
    "    return 2*x + 5\n",
    "\n",
    "z = f(5)\n",
    "\n",
    "f_fonksiyonu_ile_ayni = f\n",
    "\n",
    "f_fonksiyonu_ile_ayni(5)"
   ]
  },
  {
   "cell_type": "code",
   "execution_count": 4,
   "metadata": {},
   "outputs": [
    {
     "data": {
      "text/plain": [
       "15"
      ]
     },
     "execution_count": 4,
     "metadata": {},
     "output_type": "execute_result"
    }
   ],
   "source": [
    "# lambda fonksiyon yazımı\n",
    "# f(x) = 2x + 5\n",
    "\n",
    "f = lambda x : 2 * x + 5\n",
    "\n",
    "f(5)"
   ]
  },
  {
   "cell_type": "code",
   "execution_count": 5,
   "metadata": {},
   "outputs": [
    {
     "name": "stdout",
     "output_type": "stream",
     "text": [
      "120\n"
     ]
    }
   ],
   "source": [
    "# recursive function\n",
    "# yinelemeli fonksiyon\n",
    "\n",
    "def faktoriyel ( x ) :\n",
    "    if ( x == 2) :\n",
    "        return 2\n",
    "    return x * faktoriyel( x - 1 )\n",
    "\n",
    "print( faktoriyel ( 5 ) )"
   ]
  },
  {
   "cell_type": "code",
   "execution_count": 6,
   "metadata": {},
   "outputs": [
    {
     "name": "stdout",
     "output_type": "stream",
     "text": [
      "dfas\n",
      "hata\n"
     ]
    }
   ],
   "source": [
    "try:\n",
    "    print(\"dfas\")\n",
    "    Print(\"dfas\")\n",
    "except:\n",
    "    print(\"hata\")"
   ]
  },
  {
   "cell_type": "code",
   "execution_count": null,
   "metadata": {},
   "outputs": [],
   "source": [
    "try:\n",
    "    f = open(\"dosya\")\n",
    "    f.read()\n",
    "except :\n",
    "    print(\"lütfen sayı aralığı 0-4 olsun.\")\n",
    "finally :\n",
    "    if f: \n",
    "        f.close()\n",
    "    print(\"Her durumda çalışır.\")"
   ]
  },
  {
   "cell_type": "code",
   "execution_count": null,
   "metadata": {},
   "outputs": [],
   "source": [
    "class SifirYuzArasinda(Exception):\n",
    "    def __init__(self, b,c) -> None:\n",
    "        self.baslangic = b\n",
    "        self.bitis = c\n",
    "\n",
    "try :\n",
    "    veri = int ( input(\"Sayı gir: \"))\n",
    "    if(veri < 0) :\n",
    "        raise SifirYuzArasinda(veri,veri)\n",
    "except SifirYuzArasinda as e:\n",
    "    print(e.baslangic, \" 0 dan küçük olamaz.\")"
   ]
  },
  {
   "cell_type": "code",
   "execution_count": null,
   "metadata": {},
   "outputs": [],
   "source": [
    "numpy\n",
    "pandas\n",
    "matplotlib\n",
    "skitlearn"
   ]
  }
 ],
 "metadata": {
  "kernelspec": {
   "display_name": "Python 3",
   "language": "python",
   "name": "python3"
  },
  "language_info": {
   "codemirror_mode": {
    "name": "ipython",
    "version": 3
   },
   "file_extension": ".py",
   "mimetype": "text/x-python",
   "name": "python",
   "nbconvert_exporter": "python",
   "pygments_lexer": "ipython3",
   "version": "3.10.7"
  },
  "orig_nbformat": 4,
  "vscode": {
   "interpreter": {
    "hash": "afb734500600fd355917ca529030176ea0ca205570884b88f2f6f7d791fd3fbe"
   }
  }
 },
 "nbformat": 4,
 "nbformat_minor": 2
}
