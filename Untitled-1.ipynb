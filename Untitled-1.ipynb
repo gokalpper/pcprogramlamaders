{
 "cells": [
  {
   "cell_type": "code",
   "execution_count": null,
   "metadata": {},
   "outputs": [],
   "source": [
    "bu notebook sayfası blok blok kod yazmak için kullanılır. diğer sayfa gibi yazdığın kodu aramazsın "
   ]
  },
  {
   "cell_type": "code",
   "execution_count": 2,
   "metadata": {},
   "outputs": [
    {
     "data": {
      "text/plain": [
       "-1.0"
      ]
     },
     "execution_count": 2,
     "metadata": {},
     "output_type": "execute_result"
    }
   ],
   "source": [
    "x = 5 \n",
    "\n",
    "x = x + 1 \n",
    "x += 1\n",
    "x *= 4\n",
    "x /= 2\n",
    "x **= 2\n",
    "x //= 3\n",
    "x %= 5\n",
    "x -=1\n",
    "x\n",
    "\n",
    "(işaretin yanına eşittir koyduğun zaman o işlemi yapıyor)"
   ]
  },
  {
   "cell_type": "code",
   "execution_count": 4,
   "metadata": {},
   "outputs": [],
   "source": [
    "# LOOPS - DÖNGÜLER"
   ]
  },
  {
   "cell_type": "code",
   "execution_count": 5,
   "metadata": {},
   "outputs": [],
   "source": [
    "# while - for "
   ]
  },
  {
   "cell_type": "code",
   "execution_count": 9,
   "metadata": {},
   "outputs": [
    {
     "name": "stdout",
     "output_type": "stream",
     "text": [
      "3\n",
      "4\n",
      "5\n",
      "6\n",
      "7\n",
      "8\n",
      "9\n",
      "program bitti.\n"
     ]
    }
   ],
   "source": [
    "a = 3 \n",
    "while a < 10 : \n",
    "    print(a) \n",
    "    a += 1 \n",
    "print(\"program bitti.\")"
   ]
  },
  {
   "cell_type": "code",
   "execution_count": 20,
   "metadata": {},
   "outputs": [
    {
     "name": "stdout",
     "output_type": "stream",
     "text": [
      "0\n",
      "1\n",
      "2\n",
      "3\n",
      "4\n"
     ]
    }
   ],
   "source": [
    "x = 0 \n",
    "while x < 5 :\n",
    "    print(x)\n",
    "    x += 1 "
   ]
  },
  {
   "cell_type": "code",
   "execution_count": 22,
   "metadata": {},
   "outputs": [
    {
     "name": "stdout",
     "output_type": "stream",
     "text": [
      "#\n",
      "##\n",
      "###\n",
      "####\n",
      "#####\n"
     ]
    }
   ],
   "source": [
    "x = 0 \n",
    "while x < 5 :\n",
    "    x += 1 \n",
    "    print(x * \"#\")"
   ]
  },
  {
   "cell_type": "code",
   "execution_count": 26,
   "metadata": {},
   "outputs": [
    {
     "name": "stdout",
     "output_type": "stream",
     "text": [
      "5\n",
      "4\n",
      "3\n",
      "2\n",
      "1\n"
     ]
    }
   ],
   "source": [
    "x = 0 \n",
    "while x < 5 :\n",
    "    x += 1 \n",
    "    print(6-x)"
   ]
  },
  {
   "cell_type": "code",
   "execution_count": 28,
   "metadata": {},
   "outputs": [
    {
     "name": "stdout",
     "output_type": "stream",
     "text": [
      "5\n",
      "4\n",
      "3\n",
      "2\n",
      "1\n"
     ]
    }
   ],
   "source": [
    "\n",
    "x = 5 \n",
    "while x > 0 :\n",
    "    print(x)\n",
    "    x -= 1 \n",
    "    "
   ]
  },
  {
   "cell_type": "code",
   "execution_count": 32,
   "metadata": {},
   "outputs": [
    {
     "name": "stdout",
     "output_type": "stream",
     "text": [
      "4\n",
      "3\n",
      "2\n",
      "1\n",
      "0\n"
     ]
    }
   ],
   "source": [
    "x = 5\n",
    "while x > 0 :\n",
    "    x -= 1 \n",
    "    print(x)"
   ]
  },
  {
   "cell_type": "code",
   "execution_count": 34,
   "metadata": {},
   "outputs": [
    {
     "name": "stdout",
     "output_type": "stream",
     "text": [
      "xxxxx\n",
      "xxxx\n",
      "xxx\n",
      "xx\n",
      "x\n"
     ]
    }
   ],
   "source": [
    "x = 5\n",
    "while x > 0 :\n",
    "    print(x * \"x\")\n",
    "    x -= 1 "
   ]
  },
  {
   "cell_type": "code",
   "execution_count": 41,
   "metadata": {},
   "outputs": [
    {
     "name": "stdout",
     "output_type": "stream",
     "text": [
      "o\n",
      "oo\n",
      "ooo\n",
      "oooo\n",
      "ooooo\n",
      "o\n"
     ]
    }
   ],
   "source": [
    "x = 0\n",
    "while x < 9 : \n",
    "    x += 1\n",
    "    if x <= 5 :\n",
    "        print(x * \"o\")\n",
    "else : \n",
    "    print ( (10-x) * \"o\" )\n",
    "\n",
    "    "
   ]
  },
  {
   "cell_type": "code",
   "execution_count": 42,
   "metadata": {},
   "outputs": [
    {
     "name": "stdout",
     "output_type": "stream",
     "text": [
      "5 Faktoriyelin sonucu:  120\n"
     ]
    }
   ],
   "source": [
    "# faktoriyel hesabı \n",
    "faktoriyel = 5 \n",
    "sonuc = 1 \n",
    "while faktoriyel > 1 :\n",
    "    sonuc *= faktoriyel\n",
    "    faktoriyel -= 1\n",
    "print(\"5 Faktoriyelin sonucu: \" , sonuc)"
   ]
  },
  {
   "cell_type": "code",
   "execution_count": 47,
   "metadata": {},
   "outputs": [
    {
     "name": "stdout",
     "output_type": "stream",
     "text": [
      "0\n",
      "1\n",
      "2\n",
      "3\n",
      "4\n"
     ]
    }
   ],
   "source": [
    "# döngüyü durdurmak için \n",
    "\n",
    "x = 0 \n",
    "while True: \n",
    "    print(x)\n",
    "    x += 1\n",
    "    if x >= 5 :\n",
    "        break"
   ]
  },
  {
   "cell_type": "code",
   "execution_count": 50,
   "metadata": {},
   "outputs": [
    {
     "name": "stdout",
     "output_type": "stream",
     "text": [
      "x: 5  y 4\n",
      "x: 5  y 3\n",
      "x: 5  y 2\n",
      "x: 5  y 1\n",
      "x: 5  y 0\n"
     ]
    }
   ],
   "source": [
    "#iç içe döngüler \n",
    "x , y = 5 , 5\n",
    "while x > 0 : \n",
    "    while y > 0 : \n",
    "        y -= 1 \n",
    "        print(\"x:\" , x ,\" y\" , y)\n",
    "    x -= 1"
   ]
  },
  {
   "cell_type": "code",
   "execution_count": 51,
   "metadata": {},
   "outputs": [
    {
     "name": "stdout",
     "output_type": "stream",
     "text": [
      "x: 5  y 4\n",
      "x: 5  y 3\n",
      "x: 5  y 2\n",
      "x: 5  y 1\n",
      "x: 5  y 0\n",
      "x: 4  y 4\n",
      "x: 4  y 3\n",
      "x: 4  y 2\n",
      "x: 4  y 1\n",
      "x: 4  y 0\n",
      "x: 3  y 4\n",
      "x: 3  y 3\n",
      "x: 3  y 2\n",
      "x: 3  y 1\n",
      "x: 3  y 0\n",
      "x: 2  y 4\n",
      "x: 2  y 3\n",
      "x: 2  y 2\n",
      "x: 2  y 1\n",
      "x: 2  y 0\n",
      "x: 1  y 4\n",
      "x: 1  y 3\n",
      "x: 1  y 2\n",
      "x: 1  y 1\n",
      "x: 1  y 0\n"
     ]
    }
   ],
   "source": [
    "x  = 5 \n",
    "while x > 0 : \n",
    "    y = 5 \n",
    "    while y > 0 : \n",
    "        y -= 1 \n",
    "        print(\"x:\" , x ,\" y\" , y)\n",
    "    x -= 1"
   ]
  },
  {
   "cell_type": "code",
   "execution_count": 54,
   "metadata": {},
   "outputs": [
    {
     "name": "stdout",
     "output_type": "stream",
     "text": [
      "5-6-7-8#10\n"
     ]
    }
   ],
   "source": [
    "print ( 5 , 6, 7 , 8 , sep= \"-\" , end=\"#\")\n",
    "print (10)"
   ]
  },
  {
   "cell_type": "code",
   "execution_count": 56,
   "metadata": {},
   "outputs": [
    {
     "name": "stdout",
     "output_type": "stream",
     "text": [
      "1\n",
      "123452\n",
      "123453\n",
      "123454\n",
      "123455\n",
      "12345"
     ]
    }
   ],
   "source": [
    "x = 0\n",
    "while x < 5:\n",
    "    x += 1\n",
    "    print(x)\n",
    "    y = 0\n",
    "    while y < 5 :\n",
    "        y += 1\n",
    "        print(y,end=\"\")"
   ]
  },
  {
   "cell_type": "code",
   "execution_count": 58,
   "metadata": {},
   "outputs": [
    {
     "name": "stdout",
     "output_type": "stream",
     "text": [
      "1 12345\n",
      "2 12345\n",
      "3 12345\n",
      "4 12345\n",
      "5 12345\n"
     ]
    }
   ],
   "source": [
    "x = 0\n",
    "while x < 5:\n",
    "    x += 1\n",
    "    print(x,end=\" \")\n",
    "    y = 0\n",
    "    while y < 5 :\n",
    "        y += 1\n",
    "        print(y,end=\"\")\n",
    "    print(\"\")"
   ]
  },
  {
   "cell_type": "code",
   "execution_count": 59,
   "metadata": {},
   "outputs": [
    {
     "name": "stdout",
     "output_type": "stream",
     "text": [
      "1 1\n",
      "2 12\n",
      "3 123\n",
      "4 1234\n",
      "5 12345\n"
     ]
    }
   ],
   "source": [
    "x = 0\n",
    "while x < 5:\n",
    "    x += 1\n",
    "    print(x,end=\" \")\n",
    "    y = 0\n",
    "    while y < x :\n",
    "        y += 1\n",
    "        print(y,end=\"\")\n",
    "    print(\"\")"
   ]
  },
  {
   "cell_type": "code",
   "execution_count": 62,
   "metadata": {},
   "outputs": [
    {
     "name": "stdout",
     "output_type": "stream",
     "text": [
      "Requirement already satisfied: pygame in c:\\users\\user\\appdata\\local\\programs\\python\\python310\\lib\\site-packages (2.1.2)\n",
      "Note: you may need to restart the kernel to use updated packages.\n"
     ]
    },
    {
     "name": "stderr",
     "output_type": "stream",
     "text": [
      "\n",
      "[notice] A new release of pip available: 22.2.2 -> 22.3\n",
      "[notice] To update, run: python.exe -m pip install --upgrade pip\n"
     ]
    }
   ],
   "source": [
    "%pip install pygame"
   ]
  },
  {
   "cell_type": "code",
   "execution_count": 61,
   "metadata": {},
   "outputs": [
    {
     "name": "stdout",
     "output_type": "stream",
     "text": [
      "pygame 2.1.2 (SDL 2.0.18, Python 3.10.7)\n",
      "Hello from the pygame community. https://www.pygame.org/contribute.html\n"
     ]
    }
   ],
   "source": [
    "import pygame"
   ]
  },
  {
   "cell_type": "code",
   "execution_count": null,
   "metadata": {},
   "outputs": [],
   "source": [
    "print(\"çıkmak için -1 yazınız.\")\n",
    "while True:\n",
    "    vize = int ( input(\"vize sonucunu giriniz:\") )\n",
    "    if vize == -1 :\n",
    "        break\n",
    "    if vize < 50 :\n",
    "        final_icin_gerekli_not = (50 -0.4 * vize) / 0.6\n",
    "        print"
   ]
  },
  {
   "cell_type": "code",
   "execution_count": 2,
   "metadata": {},
   "outputs": [
    {
     "ename": "SyntaxError",
     "evalue": "expected ':' (735120967.py, line 7)",
     "output_type": "error",
     "traceback": [
      "\u001b[1;36m  Cell \u001b[1;32mIn [2], line 7\u001b[1;36m\u001b[0m\n\u001b[1;33m    if tahmin > bilgisayarın_attığı_sayı\u001b[0m\n\u001b[1;37m                                        ^\u001b[0m\n\u001b[1;31mSyntaxError\u001b[0m\u001b[1;31m:\u001b[0m expected ':'\n"
     ]
    }
   ],
   "source": [
    "import random \n",
    "\n",
    "bilgisayarın_attığı_sayı = random.randrange(0,10)\n",
    "\n",
    "while True:\n",
    "    tahmin = int(input(\"1-9 arası bir sayı giriniz\") )\n",
    "    if tahmin > bilgisayarın_attığı_sayı\n",
    "        print(*Tahmininiz yüksek*)\n",
    "    elif tahmin < bilgisayarın_attığı_sayı\n",
    "        print(*Tahmininiz düşük*)\n",
    "    else:\n",
    "        print(*Tebrikler bildiniz.*)\n",
    "        break"
   ]
  },
  {
   "cell_type": "code",
   "execution_count": 1,
   "metadata": {},
   "outputs": [
    {
     "name": "stdout",
     "output_type": "stream",
     "text": [
      "1\n",
      "34\n",
      "6\n",
      "8\n",
      "9\n"
     ]
    }
   ],
   "source": [
    "# for döngüsü\n",
    "\n",
    "for i in 1,34,6,8,9 :\n",
    "    print(i) "
   ]
  },
  {
   "cell_type": "code",
   "execution_count": 5,
   "metadata": {},
   "outputs": [
    {
     "name": "stdout",
     "output_type": "stream",
     "text": [
      "a harfinden 3  kadar var\n"
     ]
    }
   ],
   "source": [
    "adet = 0\n",
    "for index in \"Merhaba Dünya\" : \n",
    "    if index == \"a\" :\n",
    "        adet += 1 \n",
    "        \n",
    "\n",
    "print(\"a harfinden\" , adet,\" kadar var\")"
   ]
  },
  {
   "cell_type": "code",
   "execution_count": 7,
   "metadata": {},
   "outputs": [
    {
     "name": "stdout",
     "output_type": "stream",
     "text": [
      "0\n",
      "1\n",
      "2\n",
      "3\n",
      "4\n",
      "5\n",
      "6\n",
      "7\n",
      "8\n",
      "9\n"
     ]
    }
   ],
   "source": [
    "x = 0 \n",
    "while x < 10 :\n",
    "    print(x)\n",
    "    x+=1\n",
    "\n",
    "print altta olursa 1 den 10 a kadar \n",
    "üstte olursa 0 dan 9 a kadar "
   ]
  },
  {
   "cell_type": "code",
   "execution_count": 13,
   "metadata": {},
   "outputs": [
    {
     "name": "stdout",
     "output_type": "stream",
     "text": [
      "2\n",
      "4\n",
      "6\n",
      "8\n",
      "10\n"
     ]
    }
   ],
   "source": [
    "x = 0 \n",
    "while x < 10 :\n",
    "    \n",
    "    x+=1\n",
    "    if x % 2 == 0 :\n",
    "    \n",
    "        print(x)"
   ]
  }
 ],
 "metadata": {
  "kernelspec": {
   "display_name": "Python 3.10.7 64-bit",
   "language": "python",
   "name": "python3"
  },
  "language_info": {
   "codemirror_mode": {
    "name": "ipython",
    "version": 3
   },
   "file_extension": ".py",
   "mimetype": "text/x-python",
   "name": "python",
   "nbconvert_exporter": "python",
   "pygments_lexer": "ipython3",
   "version": "3.10.7"
  },
  "orig_nbformat": 4,
  "vscode": {
   "interpreter": {
    "hash": "afb734500600fd355917ca529030176ea0ca205570884b88f2f6f7d791fd3fbe"
   }
  }
 },
 "nbformat": 4,
 "nbformat_minor": 2
}
