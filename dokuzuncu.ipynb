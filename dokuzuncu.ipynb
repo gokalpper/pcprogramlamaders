{
 "cells": [
  {
   "cell_type": "code",
   "execution_count": null,
   "metadata": {},
   "outputs": [],
   "source": [
    "def yer_degistir(lst, ind1, ind2 ):\n",
    "    tmp = lst[ind1]\n",
    "    a[ind1] = a[ind2]\n",
    "    a[ind2] = tmp\n",
    "\n",
    "a = [ 9 , 7 , 11 , 5 , 4 , 19 , 1 , 23]\n",
    "# dandik bubble sort - kabarcık sıralama alg..\n",
    "islem_sayisi = 0\n",
    "for x in range(len(a)) :\n",
    "    y_deg = False\n",
    "    for i in range(len(a)-1-x) :\n",
    "        islem_sayisi += 1\n",
    "        print(a)\n",
    "        if a[i] > a[i+1] :\n",
    "            yer_degistir(a,i,i+1)\n",
    "            y_deg = True\n",
    "    if (not y_deg):\n",
    "        break        \n",
    "    \n",
    "print(islem_sayisi , a)"
   ]
  },
  {
   "cell_type": "code",
   "execution_count": 1,
   "metadata": {},
   "outputs": [
    {
     "name": "stdout",
     "output_type": "stream",
     "text": [
      "nesne oluşturuldu.\n",
      "nesne oluşturuldu.\n",
      "70000.0 135000.0 Beyaz\n"
     ]
    }
   ],
   "source": [
    "# Object Oriented Programming\n",
    "# Nesne Tabanlı Programlama\n",
    "t = 3\n",
    "\n",
    "class Araba:\n",
    "    # attributes - properties\n",
    "    # teker_sayisi = None\n",
    "    # renk = fiyati = motor_hacmi = None\n",
    "    # method \n",
    "    def vergi_hesapla(self):\n",
    "        if(self.motor_hacmi < 2000) :\n",
    "            return self.fiyati * 1.4\n",
    "        if(self.motor_hacmi < 4500 ) :\n",
    "            return self.fiyati * 2.7\n",
    "    def renk_gir(self,renk):\n",
    "        self.renk = renk\n",
    "    # her nesne oluşturulurken çağırılan bir fonksiyon var.\n",
    "    # constructor function\n",
    "    def __init__(self,mh,rn,fiyati):\n",
    "        print(\"nesne oluşturuldu.\")\n",
    "        self.motor_hacmi = mh\n",
    "        self.renk = rn\n",
    "        self.fiyati = fiyati\n",
    "\n",
    "# z = Araba()\n",
    "# z.fiyati = 50_000\n",
    "# z.renk = \"Beyaz\"\n",
    "# z.motor_hacmi = 1600\n",
    "z = Araba(1600 , \"Beyaz\" , 50_000)\n",
    "# z.renk_gir(\"Mavi\")\n",
    "b = Araba(4000, \"Sarı\" , 50000)\n",
    "\n",
    "#b.kapi_sayisi = 5\n",
    "\n",
    "# print( z.fiyati, z.motor_hacmi, z.renk )\n",
    "# print( b.kapi_sayisi, z.kapi_sayisi )\n",
    "# b.motor_hacmi = 4000\n",
    "# b.fiyati = 50_000\n",
    "\n",
    "print( z.vergi_hesapla() , b.vergi_hesapla(), z.renk )"
   ]
  },
  {
   "cell_type": "code",
   "execution_count": 2,
   "metadata": {},
   "outputs": [
    {
     "name": "stdout",
     "output_type": "stream",
     "text": [
      "nesne oluşturuldu.\n",
      "8400000.0\n"
     ]
    }
   ],
   "source": [
    "#inheritance miras alma\n",
    "class Truck(Araba):\n",
    "    tonaj = None\n",
    "    def vergi_hesapla(self):\n",
    "        return self.fiyati * 1.2\n",
    "\n",
    "tır = Truck(10_000,\"Beyaz\" , 7_000_000)\n",
    "print( tır.vergi_hesapla() )"
   ]
  },
  {
   "cell_type": "code",
   "execution_count": 3,
   "metadata": {},
   "outputs": [
    {
     "data": {
      "text/plain": [
       "(20.0, 35.0)"
      ]
     },
     "execution_count": 3,
     "metadata": {},
     "output_type": "execute_result"
    }
   ],
   "source": [
    "class Sandalye:\n",
    "    en = boy = malzeme = agirlik = None\n",
    "    def __init__(self,en,boy,malzeme, agirlik) :\n",
    "        self.en = en\n",
    "        self.boy = boy\n",
    "        self.malzeme = malzeme\n",
    "        self.agirlik = agirlik\n",
    "    def agirlik_merkezi(self):\n",
    "        return self.en/2 , self.boy/2\n",
    "\n",
    "x = Sandalye(40,70,\"Tahta\",3.75)\n",
    "y = Sandalye(50,70,\"Kompozit\",2.95)\n",
    "\n",
    "x.agirlik_merkezi()"
   ]
  },
  {
   "cell_type": "code",
   "execution_count": null,
   "metadata": {},
   "outputs": [],
   "source": [
    "# google daki kullanıcı nesnesi nasıl olabilir acaba?\n",
    "\n",
    "class User:\n",
    "    kullanici_adi = parola = None\n",
    "    loged_in = False\n",
    "    sms_code = 231654\n",
    "    def login(self,ka,p) :\n",
    "        if(self.kullanici_adi == ka and self.parola == p ):\n",
    "            self.loged_in = True\n",
    "            return True\n",
    "        return False\n",
    "    def logout(self):\n",
    "        self.loged_in = False\n",
    "    def sifremi_unuttum(self,ka):\n",
    "        if(ka==self.kullanici_adi) :\n",
    "            pass\n",
    "        return \"Böyle bir kullanıcı bulunamadı\";"
   ]
  }
 ],
 "metadata": {
  "kernelspec": {
   "display_name": "Python 3",
   "language": "python",
   "name": "python3"
  },
  "language_info": {
   "codemirror_mode": {
    "name": "ipython",
    "version": 3
   },
   "file_extension": ".py",
   "mimetype": "text/x-python",
   "name": "python",
   "nbconvert_exporter": "python",
   "pygments_lexer": "ipython3",
   "version": "3.10.7 (tags/v3.10.7:6cc6b13, Sep  5 2022, 14:08:36) [MSC v.1933 64 bit (AMD64)]"
  },
  "orig_nbformat": 4,
  "vscode": {
   "interpreter": {
    "hash": "afb734500600fd355917ca529030176ea0ca205570884b88f2f6f7d791fd3fbe"
   }
  }
 },
 "nbformat": 4,
 "nbformat_minor": 2
}
