{
 "cells": [
  {
   "cell_type": "code",
   "execution_count": 1,
   "metadata": {},
   "outputs": [],
   "source": [
    "# pygame \n",
    "# ekranda tüm parametrer yazı ile gösterilecek\n",
    "# temel fizik işlemleri kendi kodlarınız olacak \n",
    "# daha gelişmiş fizik işlemleri için python kütüphaneleri kullanılabilir\n"
   ]
  },
  {
   "cell_type": "code",
   "execution_count": 2,
   "metadata": {},
   "outputs": [
    {
     "ename": "NameError",
     "evalue": "name 'alis_veris' is not defined",
     "output_type": "error",
     "traceback": [
      "\u001b[1;31m---------------------------------------------------------------------------\u001b[0m",
      "\u001b[1;31mNameError\u001b[0m                                 Traceback (most recent call last)",
      "Cell \u001b[1;32mIn [2], line 3\u001b[0m\n\u001b[0;32m      1\u001b[0m \u001b[39m# data structures - veri yapıları \u001b[39;00m\n\u001b[1;32m----> 3\u001b[0m alis_veris\n",
      "\u001b[1;31mNameError\u001b[0m: name 'alis_veris' is not defined"
     ]
    }
   ],
   "source": [
    "# # data structures - veri yapıları \n",
    "\n",
    "# alis_veris\n"
   ]
  },
  {
   "cell_type": "code",
   "execution_count": 3,
   "metadata": {},
   "outputs": [
    {
     "ename": "SyntaxError",
     "evalue": "invalid syntax (798091315.py, line 1)",
     "output_type": "error",
     "traceback": [
      "\u001b[1;36m  Cell \u001b[1;32mIn [3], line 1\u001b[1;36m\u001b[0m\n\u001b[1;33m    1 liste = [ 25, 1.2 , True, \"Metin\" , [\"matematik\" , 25] ]\u001b[0m\n\u001b[1;37m      ^\u001b[0m\n\u001b[1;31mSyntaxError\u001b[0m\u001b[1;31m:\u001b[0m invalid syntax\n"
     ]
    }
   ],
   "source": [
    "# 1 liste = [ 25, 1.2 , True, \"Metin\" , [\"matematik\" , 25] ]\n",
    "\n",
    "# len(liste)\n"
   ]
  },
  {
   "cell_type": "code",
   "execution_count": null,
   "metadata": {},
   "outputs": [],
   "source": [
    "# tüm dillerde array - dizi mantığı [] kullanılır"
   ]
  },
  {
   "cell_type": "code",
   "execution_count": 10,
   "metadata": {},
   "outputs": [
    {
     "ename": "TypeError",
     "evalue": "unsupported operand type(s) for -: 'list' and 'int'",
     "output_type": "error",
     "traceback": [
      "\u001b[1;31m---------------------------------------------------------------------------\u001b[0m",
      "\u001b[1;31mTypeError\u001b[0m                                 Traceback (most recent call last)",
      "Cell \u001b[1;32mIn [10], line 9\u001b[0m\n\u001b[0;32m      2\u001b[0m ls_a \u001b[39m=\u001b[39m [\u001b[39m\"\u001b[39m\u001b[39mm\u001b[39m\u001b[39m\"\u001b[39m,\u001b[39m\"\u001b[39m\u001b[39me\u001b[39m\u001b[39m\"\u001b[39m,\u001b[39m\"\u001b[39m\u001b[39mr\u001b[39m\u001b[39m\"\u001b[39m,\u001b[39m\"\u001b[39m\u001b[39mh\u001b[39m\u001b[39m\"\u001b[39m,\u001b[39m\"\u001b[39m\u001b[39ma\u001b[39m\u001b[39m\"\u001b[39m,\u001b[39m\"\u001b[39m\u001b[39mb\u001b[39m\u001b[39m\"\u001b[39m,\u001b[39m\"\u001b[39m\u001b[39ma\u001b[39m\u001b[39m\"\u001b[39m]\n\u001b[0;32m      4\u001b[0m \u001b[39m# for x in a :\u001b[39;00m\n\u001b[0;32m      5\u001b[0m \u001b[39m#     print(x) \u001b[39;00m\n\u001b[0;32m      6\u001b[0m \n\u001b[0;32m      7\u001b[0m \u001b[39m# print( len(a) , len(ls_a)): \u001b[39;00m\n\u001b[1;32m----> 9\u001b[0m \u001b[39mprint\u001b[39m ( a[\u001b[39m2\u001b[39m], ls_a[\u001b[39m5\u001b[39m] , ls_a[ \u001b[39mlen\u001b[39m(ls_a \u001b[39m-\u001b[39;49m\u001b[39m1\u001b[39;49m)] )\n",
      "\u001b[1;31mTypeError\u001b[0m: unsupported operand type(s) for -: 'list' and 'int'"
     ]
    }
   ],
   "source": [
    "a = \"merhaba\" \n",
    "ls_a = [\"m\",\"e\",\"r\",\"h\",\"a\",\"b\",\"a\"]\n",
    "\n",
    "# for x in a :\n",
    "#     print(x) \n",
    "\n",
    "# print( len(a) , len(ls_a)): \n",
    "\n",
    "# print ( a[2], ls_a[5] , ls_a[ len(ls_a -1)] ) \n"
   ]
  }
 ],
 "metadata": {
  "kernelspec": {
   "display_name": "Python 3.10.7 64-bit",
   "language": "python",
   "name": "python3"
  },
  "language_info": {
   "codemirror_mode": {
    "name": "ipython",
    "version": 3
   },
   "file_extension": ".py",
   "mimetype": "text/x-python",
   "name": "python",
   "nbconvert_exporter": "python",
   "pygments_lexer": "ipython3",
   "version": "3.10.7"
  },
  "orig_nbformat": 4,
  "vscode": {
   "interpreter": {
    "hash": "afb734500600fd355917ca529030176ea0ca205570884b88f2f6f7d791fd3fbe"
   }
  }
 },
 "nbformat": 4,
 "nbformat_minor": 2
}
